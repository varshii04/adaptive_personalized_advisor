{
 "cells": [
  {
   "cell_type": "code",
   "execution_count": 1,
   "id": "rubber-burke",
   "metadata": {},
   "outputs": [],
   "source": [
    "import pandas as pd"
   ]
  },
  {
   "cell_type": "code",
   "execution_count": 19,
   "id": "important-creation",
   "metadata": {},
   "outputs": [
    {
     "name": "stdout",
     "output_type": "stream",
     "text": [
      "15000.000000000005\n",
      "15333.473089872456\n"
     ]
    }
   ],
   "source": [
    "def lqr(activity_plan,cur_hr,step_diff,target):\n",
    "    print(sum(activity_plan))\n",
    "    for hour in range(cur_hr,24):\n",
    "        activity_plan[hour] = ((target+step_diff)*(activity_plan[hour]))/target\n",
    "    return activity_plan\n",
    "\n",
    "print(sum(lqr([1.9764554741640215, 2.034102092160472, 2.0711606323010474, 1.7952803890323197, 260.3691854121116, 351.2614315302295, 340.02034102092165, 537.8058873667438, 559.0198427894377, 556.5492734467326, 251.09219753025425, 1019.311617028811, 1118.7026216858344, 798.5909519515441, 931.9564026863327, 989.5083155246463, 890.9984805998545, 1707.7069410645688, 1507.179062748344, 1699.6858259319195, 1201.890809070284, 266.48796215087776, 1.9435145495946213, 2.042337323302822],18,1069,15000)))\n",
    "        \n",
    "    \n",
    "    "
   ]
  }
 ],
 "metadata": {
  "kernelspec": {
   "display_name": "Python 3 (ipykernel)",
   "language": "python",
   "name": "python3"
  },
  "language_info": {
   "codemirror_mode": {
    "name": "ipython",
    "version": 3
   },
   "file_extension": ".py",
   "mimetype": "text/x-python",
   "name": "python",
   "nbconvert_exporter": "python",
   "pygments_lexer": "ipython3",
   "version": "3.8.6"
  }
 },
 "nbformat": 4,
 "nbformat_minor": 5
}
