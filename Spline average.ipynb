{
 "cells": [
  {
   "cell_type": "code",
   "execution_count": 1,
   "id": "assisted-norway",
   "metadata": {},
   "outputs": [],
   "source": [
    "import pandas as pd\n",
    "import numpy as np\n",
    "from sklearn.cluster import AgglomerativeClustering\n",
    "from sklearn.preprocessing import StandardScaler, normalize\n",
    "from sklearn.metrics import silhouette_score\n",
    "import scipy.cluster.hierarchy as shc\n",
    "from scipy.stats import mode\n",
    "from statistics import mean\n",
    "import matplotlib.pyplot as plt"
   ]
  },
  {
   "cell_type": "code",
   "execution_count": 2,
   "id": "steady-pocket",
   "metadata": {},
   "outputs": [
    {
     "data": {
      "image/png": "[encoded data removed]",
      "text/plain": [
       "<Figure size 432x288 with 1 Axes>"
      ]
     },
     "metadata": {
      "needs_background": "light"
     },
     "output_type": "display_data"
    },
    {
     "name": "stdout",
     "output_type": "stream",
     "text": [
      "[1.9764554741640215, 2.034102092160472, 2.0711606323010474, 1.7952803890323197, 260.3691854121116, 351.2614315302295, 340.02034102092165, 537.8058873667438, 559.0198427894377, 556.5492734467326, 251.09219753025425, 1019.311617028811, 1118.7026216858344, 798.5909519515441, 931.9564026863327, 989.5083155246463, 890.9984805998545, 1707.7069410645688, 1507.179062748344, 1699.6858259319195, 1201.890809070284, 266.48796215087776, 1.9435145495946213, 2.042337323302822]\n"
     ]
    }
   ],
   "source": [
    "def get_activity_plan(cluster,day,target):\n",
    "    activity_plan = []\n",
    "    df = pd.read_csv(\"Dataset/SecondLevel/Cluster \"+str(cluster+1)+'/'+day+'.csv')\n",
    "    largest = int(mode(df['Cluster'])[0])\n",
    "    temp = []\n",
    "    count = 0\n",
    "    row,column = 0,0\n",
    "    for index in df.index:\n",
    "        if df.at[index,'Cluster']==largest:\n",
    "            temp.append(df.at[index,'ID'])\n",
    "            count+=1\n",
    "    hour = [[0 for i in range(24)] for j in range(count)]\n",
    "    ttl_hr_avg = [0] * 24\n",
    "    for id in temp:\n",
    "        user = pd.read_csv(\"Dataset/FitnessDetails/Steps/\"+str(id)+'.csv',index_col = 0)\n",
    "        column = 0\n",
    "        for col in user.columns:\n",
    "            \n",
    "            if col=='Total Steps':\n",
    "                break\n",
    "            hour[row][column] = user.at[day.split('.')[0].capitalize(),col].mean()\n",
    "            column+=1\n",
    "        row+=1\n",
    "    ttl_hr_avg = ([mean(x) for x in zip(*hour)])\n",
    "    ttl_steps = sum(ttl_hr_avg)\n",
    "    \n",
    "    \n",
    "    for i in range(24):\n",
    "        activity_plan.append((ttl_hr_avg[i]/ttl_steps)*target)\n",
    "    \n",
    "    fig = plt.figure()\n",
    "    ax = fig.add_axes([0,0,1,1])\n",
    "    x = [i for i in range(1,25)]\n",
    "    ax.bar(x,activity_plan)\n",
    "    plt.show()\n",
    "    print(activity_plan)\n",
    "\n",
    "get_activity_plan(1,\"Tuesday\",15000)\n",
    "\n",
    "    \n",
    "    \n"
   ]
  },
  {
   "cell_type": "code",
   "execution_count": null,
   "id": "elegant-conversation",
   "metadata": {},
   "outputs": [],
   "source": []
  }
 ],
 "metadata": {
  "kernelspec": {
   "display_name": "Python 3",
   "language": "python",
   "name": "python3"
  },
  "language_info": {
   "codemirror_mode": {
    "name": "ipython",
    "version": 3
   },
   "file_extension": ".py",
   "mimetype": "text/x-python",
   "name": "python",
   "nbconvert_exporter": "python",
   "pygments_lexer": "ipython3",
   "version": "3.7.2"
  }
 },
 "nbformat": 4,
 "nbformat_minor": 5
}
