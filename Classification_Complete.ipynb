{
 "cells": [
  {
   "cell_type": "markdown",
   "id": "7c43189f",
   "metadata": {},
   "source": [
    "# Classification\n",
    "\n",
    "Read the dataset and perfrom encoder operation to process the Gender column"
   ]
  },
  {
   "cell_type": "code",
   "execution_count": 1,
   "id": "07342d2d",
   "metadata": {},
   "outputs": [],
   "source": [
    "import pandas as pd\n",
    "from sklearn.model_selection import train_test_split\n",
    "from sklearn.ensemble import RandomForestClassifier\n",
    "\n",
    "df = pd.read_csv(\"clustered_data.csv\")"
   ]
  },
  {
   "cell_type": "code",
   "execution_count": 2,
   "id": "5f529a26",
   "metadata": {},
   "outputs": [],
   "source": [
    "from sklearn import preprocessing\n",
    "le = preprocessing.LabelEncoder()\n",
    "for column_name in df.columns:\n",
    "    if df[column_name].dtype == object:\n",
    "        df[column_name] = le.fit_transform(df[column_name])\n",
    "    else:\n",
    "        pass"
   ]
  },
  {
   "cell_type": "markdown",
   "id": "50a7352e",
   "metadata": {},
   "source": [
    "Split the data into training and testing set for the classifier model"
   ]
  },
  {
   "cell_type": "code",
   "execution_count": 3,
   "id": "0e98967b",
   "metadata": {},
   "outputs": [],
   "source": [
    "y = df.Cluster\n",
    "features = ['Gender','Height M','Weight','Bmi','Workout Par Rate', 'Average Workout Time','STD Workout Time', 'Average Calories Burnt','STD Calories Burnt', 'Number of Sessions']\n",
    "X = df[features]\n",
    "X_train, X_test, y_train, y_test = train_test_split(X, y, random_state=1, test_size=0.5)"
   ]
  },
  {
   "cell_type": "markdown",
   "id": "9925762d",
   "metadata": {},
   "source": [
    "Fit the model and find the accuracy scores"
   ]
  },
  {
   "cell_type": "code",
   "execution_count": 18,
   "id": "59e416e5",
   "metadata": {},
   "outputs": [
    {
     "name": "stdout",
     "output_type": "stream",
     "text": [
      "\n",
      "ACCURACY OF THE MODEL:  0.9737827715355806\n"
     ]
    }
   ],
   "source": [
    "clf = RandomForestClassifier(n_estimators = 100,max_features=4)  \n",
    "  \n",
    "# Training the model on the training dataset\n",
    "# fit function is used to train the model using the training sets as parameters\n",
    "clf.fit(X_train, y_train)\n",
    "  \n",
    "# performing predictions on the test dataset\n",
    "y_pred = clf.predict(X_test)\n",
    "  \n",
    "# metrics are used to find accuracy or error\n",
    "from sklearn import metrics  \n",
    "print()\n",
    "  \n",
    "# using metrics module for accuracy calculation\n",
    "print(\"ACCURACY OF THE MODEL: \", metrics.accuracy_score(y_test, y_pred))"
   ]
  },
  {
   "cell_type": "markdown",
   "id": "ada145c6",
   "metadata": {},
   "source": [
    "Let us also find the confusion and matrix and classification report"
   ]
  },
  {
   "cell_type": "code",
   "execution_count": 19,
   "id": "3d022c4c",
   "metadata": {},
   "outputs": [
    {
     "data": {
      "text/plain": [
       "array([[94,  1,  2,  0,  1],\n",
       "       [ 0, 57,  0,  0,  1],\n",
       "       [ 0,  1, 25,  0,  0],\n",
       "       [ 0,  1,  0, 43,  0],\n",
       "       [ 0,  0,  0,  0, 41]], dtype=int64)"
      ]
     },
     "execution_count": 19,
     "metadata": {},
     "output_type": "execute_result"
    }
   ],
   "source": [
    "from sklearn.metrics import accuracy_score, confusion_matrix, classification_report\n",
    "confusion_matrix(y_test, y_pred)"
   ]
  },
  {
   "cell_type": "code",
   "execution_count": 20,
   "id": "caa07fb4",
   "metadata": {},
   "outputs": [
    {
     "name": "stdout",
     "output_type": "stream",
     "text": [
      "              precision    recall  f1-score   support\n",
      "\n",
      "           0       1.00      0.96      0.98        98\n",
      "           1       0.95      0.98      0.97        58\n",
      "           2       0.93      0.96      0.94        26\n",
      "           3       1.00      0.98      0.99        44\n",
      "           4       0.95      1.00      0.98        41\n",
      "\n",
      "    accuracy                           0.97       267\n",
      "   macro avg       0.97      0.98      0.97       267\n",
      "weighted avg       0.97      0.97      0.97       267\n",
      "\n"
     ]
    }
   ],
   "source": [
    " print(classification_report(y_test, y_pred))"
   ]
  },
  {
   "cell_type": "code",
   "execution_count": null,
   "id": "c55594a5",
   "metadata": {},
   "outputs": [],
   "source": []
  }
 ],
 "metadata": {
  "kernelspec": {
   "display_name": "Python 3 (ipykernel)",
   "language": "python",
   "name": "python3"
  },
  "language_info": {
   "codemirror_mode": {
    "name": "ipython",
    "version": 3
   },
   "file_extension": ".py",
   "mimetype": "text/x-python",
   "name": "python",
   "nbconvert_exporter": "python",
   "pygments_lexer": "ipython3",
   "version": "3.8.6"
  }
 },
 "nbformat": 4,
 "nbformat_minor": 5
}
