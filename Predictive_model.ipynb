{
 "cells": [
  {
   "cell_type": "code",
   "execution_count": 1,
   "id": "hourly-provider",
   "metadata": {},
   "outputs": [],
   "source": [
    "import pandas as pd\n",
    "import pickle\n",
    "from sklearn.model_selection import train_test_split\n",
    "from sklearn.ensemble import RandomForestClassifier\n"
   ]
  },
  {
   "cell_type": "code",
   "execution_count": 2,
   "id": "excellent-accuracy",
   "metadata": {},
   "outputs": [],
   "source": [
    "def dataset_split(activity,cluster,day):\n",
    "    df = pd.read_csv(\"predictive_model_dataset.csv\")\n",
    "    data = pd.DataFrame(columns = ['ID','Day','h_num','cSteps','h_tar','h_t_ac','daily_tar','prediction','Contextual_group','Activity Pattern'])\n",
    "    for index in df.index:\n",
    "        if(int(df.at[index,\"Activity Pattern\"])==activity and int(df.at[index,\"Contextual_group\"])==cluster and df.at[index,\"Day\"]==day):\n",
    "            dict1 = dict([('ID',df.at[index,\"ID\"]),('Day',df.at[index,\"Day\"]),('h_num',df.at[index,\"h_num\"]),('cSteps',df.at[index,'cSteps']),('h_tar',df.at[index,\"h_tar\"]),('h_t_ac',df.at[index,\"h_t_ac\"]),('daily_tar',df.at[index,\"daily_tar\"]),('prediction',df.at[index,\"prediction\"]),('Contextual_group',df.at[index,\"Contextual_group\"]),('Activity Pattern',df.at[index,\"Activity Pattern\"])])\n",
    "            data = data.append(dict1,ignore_index = True)\n",
    "    return data"
   ]
  },
  {
   "cell_type": "code",
   "execution_count": 3,
   "id": "downtown-silicon",
   "metadata": {},
   "outputs": [
    {
     "name": "stdout",
     "output_type": "stream",
     "text": [
      "              precision    recall  f1-score   support\n",
      "\n",
      "           0       0.77      0.78      0.78     80606\n",
      "           1       0.78      0.77      0.78     80523\n",
      "\n",
      "    accuracy                           0.78    161129\n",
      "   macro avg       0.78      0.78      0.78    161129\n",
      "weighted avg       0.78      0.78      0.78    161129\n",
      "\n"
     ]
    }
   ],
   "source": [
    "from sklearn import preprocessing\n",
    "from sklearn.model_selection import train_test_split\n",
    "from sklearn.metrics import accuracy_score, confusion_matrix, classification_report\n",
    "\n",
    "def trainModel():\n",
    "    df = pd.read_csv(\"predictive_model_dataset.csv\",index_col=0)\n",
    "    \n",
    "    le = preprocessing.LabelEncoder()\n",
    "    for column_name in df.columns:\n",
    "        if df[column_name].dtype == object:\n",
    "            df[column_name] = le.fit_transform(df[column_name])\n",
    "        else:\n",
    "            pass\n",
    "    \n",
    "    y = df.prediction\n",
    "    features = ['Day','h_num','cSteps','h_tar','h_t_ac','daily_tar','Contextual_group','Activity Pattern']\n",
    "    X = df[features]\n",
    "    y = y.astype('int')\n",
    "    X_train, X_test, y_train, y_test = train_test_split(X, y, random_state=1, test_size=0.3)\n",
    "    clf = RandomForestClassifier()  \n",
    "    clf.fit(X_train, y_train)\n",
    "    y_pred = clf.predict(X_test)\n",
    "    print(classification_report(y_test, y_pred))\n",
    "trainModel()"
   ]
  },
  {
   "cell_type": "code",
   "execution_count": 4,
   "id": "confused-corpus",
   "metadata": {},
   "outputs": [],
   "source": [
    "def willTargetAchieve(day,h_num,cSteps,h_tar,h_t_ac,daily_tar,cgroup,ap):\n",
    "    # performing predictions on the test dataset\n",
    "    loaded_model = pickle.load(open(\"predictive_model.sav\", 'rb'))\n",
    "    test = [[day,h_num,cSteps,h_tar,h_t_ac,daily_tar,cgroup,ap]]\n",
    "    y_pred = loaded_model.predict(test)\n",
    "    return y_pred[0]"
   ]
  },
  {
   "cell_type": "code",
   "execution_count": 7,
   "id": "continued-harris",
   "metadata": {},
   "outputs": [
    {
     "data": {
      "text/plain": [
       "True"
      ]
     },
     "execution_count": 7,
     "metadata": {},
     "output_type": "execute_result"
    }
   ],
   "source": [
    "trainModel(1,0,\"Monday\")"
   ]
  },
  {
   "cell_type": "code",
   "execution_count": null,
   "id": "96edbc9f",
   "metadata": {},
   "outputs": [],
   "source": [
    "print(willTargetAchieve(6,10,200,150,1,7000,3,1))"
   ]
  },
  {
   "cell_type": "code",
   "execution_count": null,
   "id": "8c8df996",
   "metadata": {},
   "outputs": [],
   "source": []
  }
 ],
 "metadata": {
  "kernelspec": {
   "display_name": "Python 3 (ipykernel)",
   "language": "python",
   "name": "python3"
  },
  "language_info": {
   "codemirror_mode": {
    "name": "ipython",
    "version": 3
   },
   "file_extension": ".py",
   "mimetype": "text/x-python",
   "name": "python",
   "nbconvert_exporter": "python",
   "pygments_lexer": "ipython3",
   "version": "3.8.6"
  }
 },
 "nbformat": 4,
 "nbformat_minor": 5
}
