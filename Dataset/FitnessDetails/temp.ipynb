{
 "cells": [
  {
   "cell_type": "code",
   "execution_count": 6,
   "id": "aging-rings",
   "metadata": {},
   "outputs": [],
   "source": [
    "from random import randint\n",
    "import pandas as pd\n",
    "\n",
    "df = pd.DataFrame(columns = ['Date','00-01 hr','01-02 hr','02-03 hr','03-04 hr','04-05 hr','05-06 hr','06-07 hr','07-08 hr','08-09 hr','09-10 hr','10-11 hr','11-12 hr','12-13 hr','13-14 hr','14-15 hr','15-16 hr','16-17 hr','17-18 hr','18-19 hr','19-20 hr','20-21 hr','21-22 hr','22-23 hr','23-24 hr', 'Total Steps'])\n",
    "id = 1136\n",
    "for i in range(0,5):\n",
    "    df = df[0:0]\n",
    "    dd = 12\n",
    "    mm = 4\n",
    "    for i in range(0,30):\n",
    "        # String manupulation for getting the date in a particular format\n",
    "        if(dd < 10):\n",
    "            dt = str('0'+str(dd))\n",
    "        else:\n",
    "            dt = str(dd)\n",
    "        row = [str(dt+'/0'+str(mm)+'/2016')]\n",
    "\n",
    "        # Creation of step count for each hour\n",
    "        t_steps = random.randint(5000,12000)\n",
    "        total = 0\n",
    "        for j in range(24):\n",
    "            steps = randint(0,200)\n",
    "            if(j == 5):\n",
    "                steps = randint(0, int(0.1*(t_steps/2)+100))\n",
    "            elif( j == 6):\n",
    "                steps = randint(int(0.1*(t_steps/2)), int(0.1*(t_steps/2)+100))\n",
    "            elif(j==7):\n",
    "                steps = randint(int(0.4*(t_steps/2)), int(0.4*(t_steps/2)+100))\n",
    "            elif(j==8):\n",
    "                steps = randint(int(0.1*(t_steps/2)), int(0.1*(t_steps/2)+100))\n",
    "            elif(j==9):\n",
    "                steps = randint(0,int(t_steps / 2))\n",
    "                total = total+ steps\n",
    "            row.append(steps)\n",
    "        row.append(total)\n",
    "        \n",
    "        # Append the new row to the dataframe\n",
    "        df_length = len(df)\n",
    "        df.loc[df_length] = row\n",
    "        \n",
    "        # Go to next date\n",
    "        dd = dd+1\n",
    "        if(dd==31):\n",
    "            dd=1\n",
    "            mm=5\n",
    "    df.to_csv('Temp/' + str(id) + '.csv',index=0)\n",
    "    id+=1"
   ]
  },
  {
   "cell_type": "code",
   "execution_count": null,
   "id": "formal-peninsula",
   "metadata": {},
   "outputs": [],
   "source": []
  }
 ],
 "metadata": {
  "kernelspec": {
   "display_name": "Python 3",
   "language": "python",
   "name": "python3"
  },
  "language_info": {
   "codemirror_mode": {
    "name": "ipython",
    "version": 3
   },
   "file_extension": ".py",
   "mimetype": "text/x-python",
   "name": "python",
   "nbconvert_exporter": "python",
   "pygments_lexer": "ipython3",
   "version": "3.7.2"
  }
 },
 "nbformat": 4,
 "nbformat_minor": 5
}
